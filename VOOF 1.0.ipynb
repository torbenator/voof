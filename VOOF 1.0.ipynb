{
 "cells": [
  {
   "cell_type": "markdown",
   "metadata": {},
   "source": [
    "# VOOF (Visualizing 1/f)"
   ]
  },
  {
   "cell_type": "code",
   "execution_count": 1,
   "metadata": {
    "collapsed": false
   },
   "outputs": [
    {
     "name": "stdout",
     "output_type": "stream",
     "text": [
      "Populating the interactive namespace from numpy and matplotlib\n"
     ]
    },
    {
     "name": "stderr",
     "output_type": "stream",
     "text": [
      "//anaconda/lib/python2.7/site-packages/matplotlib/__init__.py:872: UserWarning: axes.color_cycle is deprecated and replaced with axes.prop_cycle; please use the latter.\n",
      "  warnings.warn(self.msg_depr % (key, alt_key))\n"
     ]
    }
   ],
   "source": [
    "%pylab inline\n",
    "import matplotlib.pyplot as plt\n",
    "from foof import syn\n",
    "from foof.fit import FOOF\n",
    "import numpy as np\n",
    "import os\n",
    "import scipy.io\n",
    "import scipy.signal\n",
    "import pandas as pd\n",
    "from foof import syn\n",
    "import seaborn as sns\n",
    "import matplotlib.patches as patches"
   ]
  },
  {
   "cell_type": "markdown",
   "metadata": {},
   "source": [
    "### Making some fake data with foof.syn"
   ]
  },
  {
   "cell_type": "code",
   "execution_count": 2,
   "metadata": {
    "collapsed": false
   },
   "outputs": [
    {
     "name": "stdout",
     "output_type": "stream",
     "text": [
      "(96, 20)\n"
     ]
    },
    {
     "data": {
      "text/plain": [
       "<matplotlib.text.Text at 0x10d1a1990>"
      ]
     },
     "execution_count": 2,
     "metadata": {},
     "output_type": "execute_result"
    },
    {
     "data": {
      "image/png": "[encoded data removed]",
      "text/plain": [
       "<matplotlib.figure.Figure at 0x10d1614d0>"
      ]
     },
     "metadata": {},
     "output_type": "display_data"
    }
   ],
   "source": [
    "# Data settings\n",
    "N = 20   # Number of PSDs\n",
    "A = 0.1  # Peak height (0.005 give small but still clear; 0.2 gives huge peaks)\n",
    "A2 = 0.02  # Peak height (0.005 give small but still clear; 0.2 gives huge peaks)\n",
    "f = 8   # Frequency (3-100, Hz)\n",
    "f2 = 25   # Frequency (3-100, Hz)\n",
    "f_sig = 2  # Peak bandwidth (Hz)\n",
    "f_sig2 = 2  # Peak bandwidth (Hz)\n",
    "chi = 2  # Slope of the PSD (1-3)\n",
    "noi = 0.05 # Noise to add to the PSD (0-0.4)\n",
    "res = 0.5  # Spectral resolution (1-0.1, Hz)\n",
    "\n",
    "fs, X = syn.synthesize(N, k=A, f=f, f_sig=f_sig, chi=chi,\n",
    "                       f0=3, fmax=50, res=res, noi=noi)\n",
    "\n",
    "fs,X2 = syn.synthesize(N, k=A2, f=f2, f_sig=f_sig2, chi=chi,\n",
    "                       f0=3, fmax=50, res=res, noi=noi)\n",
    "\n",
    "two_peak_spec= mean([X,X2],0)\n",
    "print two_peak_spec.shape\n",
    "# And plot\n",
    "plt.plot(fs, np.mean(two_peak_spec,1))\n",
    "plt.xlabel(\"F (Hz)\")\n",
    "plt.ylabel(\"PSD\")"
   ]
  },
  {
   "cell_type": "markdown",
   "metadata": {},
   "source": [
    "### Foof-ing the fake data"
   ]
  },
  {
   "cell_type": "code",
   "execution_count": 5,
   "metadata": {
    "collapsed": false
   },
   "outputs": [
    {
     "name": "stdout",
     "output_type": "stream",
     "text": [
      "[  9.13994677  25.42193866]\n",
      "[ 1.41119008  1.98263325]\n",
      "[ 0.05525586  0.01139006]\n",
      "2.29683386323\n"
     ]
    },
    {
     "name": "stderr",
     "output_type": "stream",
     "text": [
      "//anaconda/lib/python2.7/site-packages/scipy/linalg/basic.py:884: RuntimeWarning: internal gelsd driver lwork query error, required iwork dimension not returned. This is likely the result of LAPACK bug 0038, fixed in LAPACK 3.2.2 (released July 21, 2010). Falling back to 'gelss' driver.\n",
      "  warnings.warn(mesg, RuntimeWarning)\n"
     ]
    }
   ],
   "source": [
    "# Foof settings\n",
    "max_components = 10  # Max number of Gaussians to consider\n",
    "\n",
    "min_p = 0.3 # Min total probablity a peak must contain to be included\n",
    "flatten_thresh = 0.05  # Useful for accounting large peaks and 'wiggly' PSDs, which often occur in real data (0-1) \n",
    "\n",
    "foof = FOOF(min_p=min_p,\n",
    "            res=res,\n",
    "            fmin=fs.min(),\n",
    "            fmax=fs.max())\n",
    "\n",
    "foof.model(fs, two_peak_spec)  # Fit PSD; Run time: 500-800 ms\n",
    "print foof.centers_\n",
    "print foof.stdevs_\n",
    "print foof.powers_\n",
    "print foof.chi_"
   ]
  },
  {
   "cell_type": "markdown",
   "metadata": {},
   "source": [
    "### Some helpful functions"
   ]
  },
  {
   "cell_type": "code",
   "execution_count": 6,
   "metadata": {
    "collapsed": false
   },
   "outputs": [],
   "source": [
    "def find_visual_wavelength_of_frequency_center(cf,freq_lo,freq_hi,vis_lo,vis_hi,res):\n",
    "    \"\"\"Finds the visual wavelength of a center frequency\"\"\"\n",
    "    spec = np.linspace(freq_lo,freq_hi,(freq_hi+1-freq_lo)/res);\n",
    "    closest_ind = min(range(len(spec)), key=lambda i: abs(spec[i]-cf))\n",
    "    visual_x_frequency_spectrum = np.linspace(visual_spectrum[0],visual_spectrum[1],num = (frequency_spectrum[1]-frequency_spectrum[0])/res)\n",
    "    flipped_ind = len(visual_x_frequency_spectrum) - closest_ind\n",
    "    wavelength = visual_x_frequency_spectrum[flipped_ind]\n",
    "    \n",
    "    return wavelength\n",
    "\n",
    "\n",
    "def chi_to_wavelength(chi,slope_range,visual_spectrum):\n",
    "    \"\"\"Takes a slope and returns the 'visual wavelength associated with it'\"\"\"\n",
    "    \n",
    "    chi_to_wl = np.linspace(0,4,num = (visual_spectrum[1]-visual_spectrum[0]))\n",
    "    closest_wl_ind = min(range(len(chi_to_wl)), key=lambda i: abs(chi_to_wl[i]-chi))\n",
    "    vis = np.linspace(visual_spectrum[0],visual_spectrum[1],num=visual_spectrum[1]-visual_spectrum[0]+1)\n",
    "    \n",
    "    return vis[closest_wl_ind]\n",
    "\n",
    "\n",
    "def wav2RGB(wavelength):\n",
    "    \"\"\"very helpful code I stole from http://codingmess.blogspot.com/2009/05/conversion-of-wavelength-in-nanometers.html\"\"\"\n",
    "    w = int(wavelength)\n",
    "\n",
    "    # colour\n",
    "    if w >= 380 and w < 440:\n",
    "        R = -(w - 440.) / (440. - 350.)\n",
    "        G = 0.0\n",
    "        B = 1.0\n",
    "    elif w >= 440 and w < 490:\n",
    "        R = 0.0\n",
    "        G = (w - 440.) / (490. - 440.)\n",
    "        B = 1.0\n",
    "    elif w >= 490 and w < 510:\n",
    "        R = 0.0\n",
    "        G = 1.0\n",
    "        B = -(w - 510.) / (510. - 490.)\n",
    "    elif w >= 510 and w < 580:\n",
    "        R = (w - 510.) / (580. - 510.)\n",
    "        G = 1.0\n",
    "        B = 0.0\n",
    "    elif w >= 580 and w < 645:\n",
    "        R = 1.0\n",
    "        G = -(w - 645.) / (645. - 580.)\n",
    "        B = 0.0\n",
    "    elif w >= 645 and w <= 780:\n",
    "        R = 1.0\n",
    "        G = 0.0\n",
    "        B = 0.0\n",
    "    else:\n",
    "        R = 0.0\n",
    "        G = 0.0\n",
    "        B = 0.0\n",
    "\n",
    "    # intensity correction\n",
    "    if w >= 380 and w < 420:\n",
    "        SSS = 0.3 + 0.7*(w - 350) / (420 - 350)\n",
    "    elif w >= 420 and w <= 700:\n",
    "        SSS = 1.0\n",
    "    elif w > 700 and w <= 780:\n",
    "        SSS = 0.3 + 0.7*(780 - w) / (780 - 700)\n",
    "    else:\n",
    "        SSS = 0.0\n",
    "    SSS *= 255\n",
    "\n",
    "    return [int(SSS*R), int(SSS*G), int(SSS*B)]\n",
    "\n",
    "\n",
    "def rgb_to_hex(rgb):\n",
    "    \"\"\"Helpful code stolen from http://stackoverflow.com/questions/214359/converting-hex-color-to-rgb-and-vice-versa\"\"\"\n",
    "    return '#%02x%02x%02x' % rgb"
   ]
  },
  {
   "cell_type": "markdown",
   "metadata": {},
   "source": [
    "### defining fx, visual, and slope ranges"
   ]
  },
  {
   "cell_type": "code",
   "execution_count": 7,
   "metadata": {
    "collapsed": false
   },
   "outputs": [],
   "source": [
    "visual_spectrum = [380, 750];\n",
    "frequency_spectrum = [1,50];\n",
    "slope_range = [0,4];"
   ]
  },
  {
   "cell_type": "markdown",
   "metadata": {},
   "source": [
    "# Voofing"
   ]
  },
  {
   "cell_type": "code",
   "execution_count": 8,
   "metadata": {
    "collapsed": false
   },
   "outputs": [
    {
     "data": {
      "text/plain": [
       "<matplotlib.legend.Legend at 0x10d89d050>"
      ]
     },
     "execution_count": 8,
     "metadata": {},
     "output_type": "execute_result"
    },
    {
     "data": {
      "image/png": "[encoded data removed]",
      "text/plain": [
       "<matplotlib.figure.Figure at 0x10d818450>"
      ]
     },
     "metadata": {},
     "output_type": "display_data"
    }
   ],
   "source": [
    "bandwidth_fracts = [i/sum(foof.stdevs_) for i in foof.stdevs_]\n",
    "power_fracts = [i/sum(foof.powers_) for i in foof.powers_]\n",
    "visual_wavelengths = [find_visual_wavelength_of_frequency_center(i,frequency_spectrum[0],frequency_spectrum[1],visual_spectrum[0],visual_spectrum[1],res) for i in foof.centers_]\n",
    "\n",
    "fig1 = plt.figure(figsize=(8,8))\n",
    "ax1 = fig1.add_subplot(111, aspect='equal')\n",
    "i=0\n",
    "for bw in xrange(len(foof.stdevs_)):\n",
    "    ax1.add_patch(\n",
    "        patches.Rectangle(\n",
    "            (i, 0),   # (x,y)\n",
    "            bandwidth_fracts[bw],          # width\n",
    "            1,          # height\n",
    "            facecolor= rgb_to_hex(tuple(wav2RGB(visual_wavelengths[bw]))),\n",
    "            alpha = power_fracts[bw],\n",
    "            label = 'peak at ' +str(foof.centers_[bw])+'hz. bw='+ str(foof.stdevs_[bw])\n",
    "        )\n",
    "    )\n",
    "    i=i+bandwidth_fracts[bw]\n",
    "    #print bw\n",
    "ax1.set_xlim([0,1])\n",
    "bump = 1/foof.chi_\n",
    "polygon_params = [[0,(foof.chi_/10)+bump],[0,0],[0-bump/(-foof.chi_/10),0]]; #some y=mx+b stuff\n",
    "\n",
    "ax1.add_patch(patches.Polygon(polygon_params, True,label='slope= -'+str(foof.chi_),\n",
    "                             facecolor = rgb_to_hex(tuple(wav2RGB(chi_to_wavelength(foof.chi_,slope_range,visual_spectrum))))))\n",
    "plt.title('VOOF Demo')\n",
    "plt.legend()"
   ]
  }
 ],
 "metadata": {
  "kernelspec": {
   "display_name": "Python 2",
   "language": "python",
   "name": "python2"
  },
  "language_info": {
   "codemirror_mode": {
    "name": "ipython",
    "version": 2
   },
   "file_extension": ".py",
   "mimetype": "text/x-python",
   "name": "python",
   "nbconvert_exporter": "python",
   "pygments_lexer": "ipython2",
   "version": "2.7.11"
  }
 },
 "nbformat": 4,
 "nbformat_minor": 0
}
